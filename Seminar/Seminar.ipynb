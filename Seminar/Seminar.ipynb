{
  "nbformat": 4,
  "nbformat_minor": 0,
  "metadata": {
    "colab": {
      "provenance": [],
      "gpuType": "T4"
    },
    "kernelspec": {
      "name": "python3",
      "display_name": "Python 3"
    },
    "language_info": {
      "name": "python"
    },
    "accelerator": "GPU"
  },
  "cells": [
    {
      "cell_type": "code",
      "execution_count": 4,
      "metadata": {
        "colab": {
          "base_uri": "https://localhost:8080/"
        },
        "id": "prdgwQYtIJTM",
        "outputId": "6aad4824-cde0-4af5-da38-1b890f0a05bb"
      },
      "outputs": [
        {
          "output_type": "stream",
          "name": "stdout",
          "text": [
            "Overwriting seminar.cu\n"
          ]
        }
      ],
      "source": [
        "%%writefile seminar.cu\n",
        "\n",
        "#include <stdio.h>\n",
        "#include <stdlib.h>\n",
        "#include <opencv2/opencv.hpp>\n",
        "#include <iostream>\n",
        "\n",
        "using namespace cv;\n",
        "using namespace std;\n",
        "\n",
        "// kernel za Laplaceov 7x7 filter\n",
        "__global__ void laplacianFilter(uchar3 *input, uchar3 *output, int rows, int cols) {\n",
        "    // x i y pozicije piksela\n",
        "    int x = blockIdx.x * blockDim.x + threadIdx.x;\n",
        "    int y = blockIdx.y * blockDim.y + threadIdx.y;\n",
        "\n",
        "    if (x < cols && y < rows) {  // provjera granica slike\n",
        "        int idx = y * cols + x;  // indeks trenutnog piksela\n",
        "        float sumR = 0.0, sumG = 0.0, sumB = 0.0;\n",
        "\n",
        "        // računanje Laplaceovog operatora za svaki kanal u 7x7 susjedstvu\n",
        "        for (int dx = -3; dx <= 3; ++dx) {\n",
        "            for (int dy = -3; dy <= 3; ++dy) {\n",
        "                int nx = min(max(x + dx, 0), cols - 1); // krajnji se zrcale\n",
        "                int ny = min(max(y + dy, 0), rows - 1);\n",
        "                int neighborIdx = ny * cols + nx;  // indeks susjednog piksela\n",
        "                sumR += input[neighborIdx].x;\n",
        "                sumG += input[neighborIdx].y;\n",
        "                sumB += input[neighborIdx].z;\n",
        "              }\n",
        "          }\n",
        "            sumR = 48 * input[idx].x - sumR;\n",
        "            sumG = 48 * input[idx].y - sumG;\n",
        "            sumB = 48 * input[idx].z - sumB;\n",
        "\n",
        "            // ograničavanje vrijednosti do 255 i spremanje u izlaz\n",
        "            output[idx].x = (sumR < 0) ? 0 : ((sumR > 255) ? 255 : sumR);\n",
        "            output[idx].y = (sumG < 0) ? 0 : ((sumG > 255) ? 255 : sumG);\n",
        "            output[idx].z = (sumB < 0) ? 0 : ((sumB > 255) ? 255 : sumB);\n",
        "    }\n",
        "}\n",
        "\n",
        "int main(int argc, char** argv) {\n",
        "    if (argc != 2) {\n",
        "        printf(\"usage: DisplayImage.out <Image_Path>\\n\");\n",
        "        return -1;\n",
        "    }\n",
        "\n",
        "    // Učitavanje slike\n",
        "    Mat image;\n",
        "    image = imread(argv[1], IMREAD_COLOR);\n",
        "    if (image.empty()) {  // provjera uspješnog učitavanja slike\n",
        "        printf(\"Nije moguće otvoriti ili pronaći sliku.\\n\");\n",
        "        return -1;\n",
        "    }\n",
        "    int height = image.rows;\n",
        "    int width = image.cols;\n",
        "\n",
        "    // ispis informacija o slici\n",
        "    size_t sizeInBytes = image.total() * image.elemSize();\n",
        "    int sizeMat = static_cast<int>(sizeInBytes);\n",
        "    printf(\"Veličina slike: %i bajtova\\n\", sizeMat);\n",
        "    printf(\"Dimenzije slike: %i x %i\\n\", height, width);\n",
        "\n",
        "    // Spremanje originalne slike\n",
        "    printf(\"Spremanje originalne slike...\\n\");\n",
        "    imwrite(\"split_copy.jpg\", image);\n",
        "\n",
        "    // alokacija memorije na uređaju za sliku\n",
        "    uchar3 *d_input, *d_output;\n",
        "    uchar3 *a = image.ptr<uchar3>(0);\n",
        "    cudaMalloc((void**)&d_input, sizeMat);\n",
        "    cudaMalloc((void**)&d_output, sizeMat);\n",
        "\n",
        "    // kopiranje ulazne slike na uređaj\n",
        "    cudaMemcpy(d_input, a, sizeMat, cudaMemcpyHostToDevice);\n",
        "\n",
        "    // definiranje dimenzija bloka i grid-a\n",
        "    dim3 blockSize(32, 32);\n",
        "    dim3 gridSize((width + blockSize.x - 1) / blockSize.x, (height + blockSize.y - 1) / blockSize.y);\n",
        "\n",
        "    // poziv kernel fje\n",
        "    laplacianFilter<<<gridSize, blockSize>>>(d_input, d_output, height, width);\n",
        "    cudaDeviceSynchronize();\n",
        "\n",
        "    // kopiranje filtrirane slike na host\n",
        "    uchar3 *b = (uchar3 *)malloc(sizeMat);\n",
        "    cudaMemcpy(b, d_output, sizeMat, cudaMemcpyDeviceToHost);\n",
        "    printf(\"Kopiranje filtriranih podataka s uređaja.\\n\");\n",
        "\n",
        "    // stvaranje izlazne slike i spremanje\n",
        "    Mat image_out = Mat(height, width, CV_8UC3, (unsigned char*)b);\n",
        "    imwrite(\"new.jpg\", image_out);\n",
        "    printf(\"Filtrirana slika spremljena kao new.jpg\\n\");\n",
        "\n",
        "    cudaFree(d_input);\n",
        "    cudaFree(d_output);\n",
        "    free(b);\n",
        "\n",
        "    return 0;\n",
        "}\n"
      ]
    },
    {
      "cell_type": "code",
      "source": [
        "!nvcc seminar.cu -o seminar.out `pkg-config --cflags --libs opencv4` -w\n",
        "!./seminar.out slika.jpg"
      ],
      "metadata": {
        "colab": {
          "base_uri": "https://localhost:8080/"
        },
        "id": "h5kF0szfJA22",
        "outputId": "7a0a6d0c-b7bf-403d-99dc-29a2aae33598"
      },
      "execution_count": 5,
      "outputs": [
        {
          "output_type": "stream",
          "name": "stdout",
          "text": [
            "Veličina slike: 3108105 bajtova\n",
            "Dimenzije slike: 819 x 1265\n",
            "Spremanje originalne slike...\n",
            "Kopiranje filtriranih podataka s uređaja.\n",
            "Filtrirana slika spremljena kao new.jpg\n"
          ]
        }
      ]
    },
    {
      "cell_type": "code",
      "source": [
        "import cv2\n",
        "print(cv2.__version__)"
      ],
      "metadata": {
        "colab": {
          "base_uri": "https://localhost:8080/"
        },
        "id": "yr8e0ZfKJ-TJ",
        "outputId": "5ee0c5b2-a362-46ca-ff42-d460ef81a925"
      },
      "execution_count": null,
      "outputs": [
        {
          "output_type": "stream",
          "name": "stdout",
          "text": [
            "4.8.0\n"
          ]
        }
      ]
    }
  ]
}